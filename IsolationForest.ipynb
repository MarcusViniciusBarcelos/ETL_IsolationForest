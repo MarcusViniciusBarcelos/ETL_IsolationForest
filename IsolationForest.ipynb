{
  "nbformat": 4,
  "nbformat_minor": 0,
  "metadata": {
    "colab": {
      "provenance": [],
      "authorship_tag": "ABX9TyNUfIMTYimiAvyUWoa7lQKq",
      "include_colab_link": true
    },
    "kernelspec": {
      "name": "python3",
      "display_name": "Python 3"
    },
    "language_info": {
      "name": "python"
    }
  },
  "cells": [
    {
      "cell_type": "markdown",
      "metadata": {
        "id": "view-in-github",
        "colab_type": "text"
      },
      "source": [
        "<a href=\"https://colab.research.google.com/github/MarcusViniciusBarcelos/ETL_IsolationForest/blob/main/IsolationForest.ipynb\" target=\"_parent\"><img src=\"https://colab.research.google.com/assets/colab-badge.svg\" alt=\"Open In Colab\"/></a>"
      ]
    },
    {
      "cell_type": "code",
      "execution_count": 1,
      "metadata": {
        "id": "ieq62ygFJXa6"
      },
      "outputs": [],
      "source": [
        "import pandas as pd\n",
        "from sklearn.ensemble import IsolationForest"
      ]
    },
    {
      "cell_type": "code",
      "source": [
        "dados = pd.read_csv(\"transacoes.csv\")\n",
        "dados['localizacao'] = dados['localizacao'].astype('category').cat.codes\n",
        "colunas_analise = ['valor', 'localizacao']"
      ],
      "metadata": {
        "id": "6PyjfgmnLxom"
      },
      "execution_count": 8,
      "outputs": []
    },
    {
      "cell_type": "code",
      "source": [
        "modelo = IsolationForest(contamination=0.01)\n",
        "modelo.fit(dados[colunas_analise])\n",
        "dados['risco'] = modelo.predict(dados[colunas_analise])\n",
        "limite_alerta = -1"
      ],
      "metadata": {
        "colab": {
          "base_uri": "https://localhost:8080/"
        },
        "id": "YqFuu-QZMvdu",
        "outputId": "7baa7ac1-47f4-4e75-d84d-057417ec5066"
      },
      "execution_count": 11,
      "outputs": [
        {
          "output_type": "stream",
          "name": "stderr",
          "text": [
            "/usr/local/lib/python3.10/dist-packages/sklearn/base.py:439: UserWarning: X does not have valid feature names, but IsolationForest was fitted with feature names\n",
            "  warnings.warn(\n"
          ]
        }
      ]
    },
    {
      "cell_type": "code",
      "source": [
        "suspeitas = dados[dados['risco'] < limite_alerta]\n",
        "for idx, transacao in suspeitas.iterrows():\n",
        "    print(f\"ALERTA: Transação suspeita - Data: {transacao['data']}, Valor: {transacao['valor']}, Localização: {transacao['localizacao']}\")"
      ],
      "metadata": {
        "id": "pmf4WBuvMwCQ"
      },
      "execution_count": 12,
      "outputs": []
    },
    {
      "cell_type": "code",
      "source": [
        "dados.to_csv(\"resultados.csv\", index=False)"
      ],
      "metadata": {
        "id": "r5aaPNrkNAsj"
      },
      "execution_count": 13,
      "outputs": []
    },
    {
      "cell_type": "code",
      "source": [
        "resultados = dados[['data', 'valor', 'localizacao', 'risco']]\n",
        "print(resultados)"
      ],
      "metadata": {
        "colab": {
          "base_uri": "https://localhost:8080/"
        },
        "id": "GyeBKnMIN0RI",
        "outputId": "8153f645-2262-405f-cf0b-847e3beaa520"
      },
      "execution_count": 14,
      "outputs": [
        {
          "output_type": "stream",
          "name": "stdout",
          "text": [
            "          data   valor  localizacao  risco\n",
            "0   2023-08-01   100.0            4      1\n",
            "1   2023-08-01    50.0            2      1\n",
            "2   2023-08-02   200.0            4      1\n",
            "3   2023-08-02   150.0            0      1\n",
            "4   2023-08-03   300.0            4      1\n",
            "5   2023-08-03    75.0            1      1\n",
            "6   2023-08-04   500.0            4      1\n",
            "7   2023-08-04    90.0            2      1\n",
            "8   2023-08-05   600.0            4      1\n",
            "9   2023-08-05   110.0            2      1\n",
            "10  2023-08-06  1000.0            4     -1\n",
            "11  2023-08-06    70.0            3      1\n",
            "12  2023-08-07   200.0            4      1\n",
            "13  2023-08-07    80.0            1      1\n",
            "14  2023-08-08   300.0            4      1\n",
            "15  2023-08-08   120.0            0      1\n"
          ]
        }
      ]
    }
  ]
}